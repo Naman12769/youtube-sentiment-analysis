{
 "cells": [
  {
   "cell_type": "code",
   "execution_count": 5,
   "id": "50ab9d71",
   "metadata": {},
   "outputs": [],
   "source": [
    "import pandas as pd\n",
    "import numpy as np\n",
    "import mlflow"
   ]
  },
  {
   "cell_type": "code",
   "execution_count": 6,
   "id": "7e82fd4b",
   "metadata": {},
   "outputs": [
    {
     "name": "stdout",
     "output_type": "stream",
     "text": [
      "🏃 View run charming-owl-411 at: http://ec2-44-201-150-114.compute-1.amazonaws.com:5000/#/experiments/0/runs/b14b2077925b44bcbb2da240f368f768\n",
      "🧪 View experiment at: http://ec2-44-201-150-114.compute-1.amazonaws.com:5000/#/experiments/0\n"
     ]
    }
   ],
   "source": [
    "# pip install mlflow\n",
    "import mlflow\n",
    "mlflow.set_tracking_uri(\"http://ec2-44-201-150-114.compute-1.amazonaws.com:5000/\")\n",
    "with mlflow.start_run():\n",
    "  mlflow.log_param(\"param1\",15)\n",
    "  mlflow.log_metric(\"metric1\",0.89)"
   ]
  },
  {
   "cell_type": "code",
   "execution_count": 7,
   "id": "33d4a107",
   "metadata": {},
   "outputs": [],
   "source": [
    "import numpy as np\n",
    "import pandas as pd"
   ]
  },
  {
   "cell_type": "code",
   "execution_count": 8,
   "id": "e9cd50aa",
   "metadata": {},
   "outputs": [],
   "source": [
    "df=pd.read_csv('F:\\\\new_downloads\\\\archive - 2025-06-28T120017.952\\\\Reddit_Data.csv')"
   ]
  },
  {
   "cell_type": "code",
   "execution_count": 9,
   "id": "43dd9ac2",
   "metadata": {},
   "outputs": [],
   "source": [
    "df.dropna(inplace=True)"
   ]
  },
  {
   "cell_type": "code",
   "execution_count": 10,
   "id": "57c56be5",
   "metadata": {},
   "outputs": [],
   "source": [
    "df.drop_duplicates(inplace=True)"
   ]
  },
  {
   "cell_type": "code",
   "execution_count": 11,
   "id": "a88e222f",
   "metadata": {},
   "outputs": [
    {
     "data": {
      "text/plain": [
       "0         family mormon have never tried explain them t...\n",
       "1        buddhism has very much lot compatible with chr...\n",
       "2        seriously don say thing first all they won get...\n",
       "3        what you have learned yours and only yours wha...\n",
       "4        for your own benefit you may want read living ...\n",
       "                               ...                        \n",
       "37244                                                jesus\n",
       "37245    kya bhai pure saal chutiya banaya modi aur jab...\n",
       "37246                downvote karna tha par upvote hogaya \n",
       "37247                                           haha nice \n",
       "37248               facebook itself now working bjp’ cell \n",
       "Name: clean_comment, Length: 36799, dtype: object"
      ]
     },
     "execution_count": 11,
     "metadata": {},
     "output_type": "execute_result"
    }
   ],
   "source": [
    "df['clean_comment']"
   ]
  },
  {
   "cell_type": "code",
   "execution_count": 12,
   "id": "c05a4bbe",
   "metadata": {},
   "outputs": [],
   "source": [
    "df=df[~(df['clean_comment'].str.strip()=='')]"
   ]
  },
  {
   "cell_type": "code",
   "execution_count": 13,
   "id": "83356d19",
   "metadata": {},
   "outputs": [
    {
     "data": {
      "text/html": [
       "<div>\n",
       "<style scoped>\n",
       "    .dataframe tbody tr th:only-of-type {\n",
       "        vertical-align: middle;\n",
       "    }\n",
       "\n",
       "    .dataframe tbody tr th {\n",
       "        vertical-align: top;\n",
       "    }\n",
       "\n",
       "    .dataframe thead th {\n",
       "        text-align: right;\n",
       "    }\n",
       "</style>\n",
       "<table border=\"1\" class=\"dataframe\">\n",
       "  <thead>\n",
       "    <tr style=\"text-align: right;\">\n",
       "      <th></th>\n",
       "      <th>clean_comment</th>\n",
       "      <th>category</th>\n",
       "    </tr>\n",
       "  </thead>\n",
       "  <tbody>\n",
       "    <tr>\n",
       "      <th>0</th>\n",
       "      <td>family mormon have never tried explain them t...</td>\n",
       "      <td>1</td>\n",
       "    </tr>\n",
       "    <tr>\n",
       "      <th>1</th>\n",
       "      <td>buddhism has very much lot compatible with chr...</td>\n",
       "      <td>1</td>\n",
       "    </tr>\n",
       "    <tr>\n",
       "      <th>2</th>\n",
       "      <td>seriously don say thing first all they won get...</td>\n",
       "      <td>-1</td>\n",
       "    </tr>\n",
       "    <tr>\n",
       "      <th>3</th>\n",
       "      <td>what you have learned yours and only yours wha...</td>\n",
       "      <td>0</td>\n",
       "    </tr>\n",
       "    <tr>\n",
       "      <th>4</th>\n",
       "      <td>for your own benefit you may want read living ...</td>\n",
       "      <td>1</td>\n",
       "    </tr>\n",
       "    <tr>\n",
       "      <th>...</th>\n",
       "      <td>...</td>\n",
       "      <td>...</td>\n",
       "    </tr>\n",
       "    <tr>\n",
       "      <th>37244</th>\n",
       "      <td>jesus</td>\n",
       "      <td>0</td>\n",
       "    </tr>\n",
       "    <tr>\n",
       "      <th>37245</th>\n",
       "      <td>kya bhai pure saal chutiya banaya modi aur jab...</td>\n",
       "      <td>1</td>\n",
       "    </tr>\n",
       "    <tr>\n",
       "      <th>37246</th>\n",
       "      <td>downvote karna tha par upvote hogaya</td>\n",
       "      <td>0</td>\n",
       "    </tr>\n",
       "    <tr>\n",
       "      <th>37247</th>\n",
       "      <td>haha nice</td>\n",
       "      <td>1</td>\n",
       "    </tr>\n",
       "    <tr>\n",
       "      <th>37248</th>\n",
       "      <td>facebook itself now working bjp’ cell</td>\n",
       "      <td>0</td>\n",
       "    </tr>\n",
       "  </tbody>\n",
       "</table>\n",
       "<p>36793 rows × 2 columns</p>\n",
       "</div>"
      ],
      "text/plain": [
       "                                           clean_comment  category\n",
       "0       family mormon have never tried explain them t...         1\n",
       "1      buddhism has very much lot compatible with chr...         1\n",
       "2      seriously don say thing first all they won get...        -1\n",
       "3      what you have learned yours and only yours wha...         0\n",
       "4      for your own benefit you may want read living ...         1\n",
       "...                                                  ...       ...\n",
       "37244                                              jesus         0\n",
       "37245  kya bhai pure saal chutiya banaya modi aur jab...         1\n",
       "37246              downvote karna tha par upvote hogaya          0\n",
       "37247                                         haha nice          1\n",
       "37248             facebook itself now working bjp’ cell          0\n",
       "\n",
       "[36793 rows x 2 columns]"
      ]
     },
     "execution_count": 13,
     "metadata": {},
     "output_type": "execute_result"
    }
   ],
   "source": [
    "df"
   ]
  },
  {
   "cell_type": "code",
   "execution_count": 14,
   "id": "c23261b3",
   "metadata": {},
   "outputs": [],
   "source": [
    "import nltk"
   ]
  },
  {
   "cell_type": "code",
   "execution_count": 15,
   "id": "65353d0c",
   "metadata": {},
   "outputs": [],
   "source": [
    "# nltk.download('stopwords')\n",
    "# nltk.download('wordnet')"
   ]
  },
  {
   "cell_type": "code",
   "execution_count": 16,
   "id": "292e4ce9",
   "metadata": {},
   "outputs": [],
   "source": [
    "import re\n",
    "import nltk\n",
    "from nltk.corpus import stopwords\n",
    "from nltk.stem import WordNetLemmatizer"
   ]
  },
  {
   "cell_type": "markdown",
   "id": "4df6081f",
   "metadata": {},
   "source": []
  },
  {
   "cell_type": "code",
   "execution_count": 17,
   "id": "6e4f2f8b",
   "metadata": {},
   "outputs": [],
   "source": [
    "def process_comment(comment):\n",
    "  comment=comment.lower()\n",
    "  comment=comment.strip()\n",
    "  comment=re.sub(r'\\n',' ',comment)\n",
    "  comment=re.sub(r'[^A-Za-z0-9\\s!?.,]',' ',comment)\n",
    "  stop_words=set(stopwords.words('english'))-{'not','but','however','no','yet'}\n",
    "  comment=' '.join([word for word in comment.split() if word not in stop_words])\n",
    "  lemmatizer=WordNetLemmatizer()\n",
    "  comment=' '.join([lemmatizer.lemmatize(word) for word in comment.split()])\n",
    "  return comment\n"
   ]
  },
  {
   "cell_type": "code",
   "execution_count": 18,
   "id": "4897cd32",
   "metadata": {},
   "outputs": [
    {
     "name": "stderr",
     "output_type": "stream",
     "text": [
      "[nltk_data] Downloading package omw-1.4 to C:\\Users\\hi/nltk_data...\n",
      "[nltk_data]   Package omw-1.4 is already up-to-date!\n"
     ]
    },
    {
     "data": {
      "text/plain": [
       "True"
      ]
     },
     "execution_count": 18,
     "metadata": {},
     "output_type": "execute_result"
    }
   ],
   "source": [
    "nltk.download('omw-1.4')"
   ]
  },
  {
   "cell_type": "code",
   "execution_count": 19,
   "id": "50bb9086",
   "metadata": {},
   "outputs": [
    {
     "data": {
      "text/plain": [
       "0         family mormon have never tried explain them t...\n",
       "1        buddhism has very much lot compatible with chr...\n",
       "2        seriously don say thing first all they won get...\n",
       "3        what you have learned yours and only yours wha...\n",
       "4        for your own benefit you may want read living ...\n",
       "                               ...                        \n",
       "37244                                                jesus\n",
       "37245    kya bhai pure saal chutiya banaya modi aur jab...\n",
       "37246                downvote karna tha par upvote hogaya \n",
       "37247                                           haha nice \n",
       "37248               facebook itself now working bjp’ cell \n",
       "Name: clean_comment, Length: 36793, dtype: object"
      ]
     },
     "execution_count": 19,
     "metadata": {},
     "output_type": "execute_result"
    }
   ],
   "source": [
    "df['clean_comment']"
   ]
  },
  {
   "cell_type": "code",
   "execution_count": 20,
   "id": "f403da33",
   "metadata": {},
   "outputs": [],
   "source": [
    "df['clean_comment']=df['clean_comment'].apply(process_comment)"
   ]
  },
  {
   "cell_type": "code",
   "execution_count": 24,
   "id": "89998a52",
   "metadata": {},
   "outputs": [
    {
     "data": {
      "text/html": [
       "<div>\n",
       "<style scoped>\n",
       "    .dataframe tbody tr th:only-of-type {\n",
       "        vertical-align: middle;\n",
       "    }\n",
       "\n",
       "    .dataframe tbody tr th {\n",
       "        vertical-align: top;\n",
       "    }\n",
       "\n",
       "    .dataframe thead th {\n",
       "        text-align: right;\n",
       "    }\n",
       "</style>\n",
       "<table border=\"1\" class=\"dataframe\">\n",
       "  <thead>\n",
       "    <tr style=\"text-align: right;\">\n",
       "      <th></th>\n",
       "      <th>clean_comment</th>\n",
       "      <th>category</th>\n",
       "    </tr>\n",
       "  </thead>\n",
       "  <tbody>\n",
       "    <tr>\n",
       "      <th>0</th>\n",
       "      <td>family mormon never tried explain still stare ...</td>\n",
       "      <td>1</td>\n",
       "    </tr>\n",
       "    <tr>\n",
       "      <th>1</th>\n",
       "      <td>buddhism much lot compatible christianity espe...</td>\n",
       "      <td>1</td>\n",
       "    </tr>\n",
       "    <tr>\n",
       "      <th>2</th>\n",
       "      <td>seriously say thing first get complex explain ...</td>\n",
       "      <td>-1</td>\n",
       "    </tr>\n",
       "    <tr>\n",
       "      <th>3</th>\n",
       "      <td>learned want teach different focus goal not wr...</td>\n",
       "      <td>0</td>\n",
       "    </tr>\n",
       "    <tr>\n",
       "      <th>4</th>\n",
       "      <td>benefit may want read living buddha living chr...</td>\n",
       "      <td>1</td>\n",
       "    </tr>\n",
       "  </tbody>\n",
       "</table>\n",
       "</div>"
      ],
      "text/plain": [
       "                                       clean_comment  category\n",
       "0  family mormon never tried explain still stare ...         1\n",
       "1  buddhism much lot compatible christianity espe...         1\n",
       "2  seriously say thing first get complex explain ...        -1\n",
       "3  learned want teach different focus goal not wr...         0\n",
       "4  benefit may want read living buddha living chr...         1"
      ]
     },
     "execution_count": 24,
     "metadata": {},
     "output_type": "execute_result"
    }
   ],
   "source": [
    "df.head()"
   ]
  },
  {
   "cell_type": "code",
   "execution_count": 25,
   "id": "923d6819",
   "metadata": {},
   "outputs": [],
   "source": [
    "import mlflow\n",
    "import mlflow.sklearn\n",
    "from sklearn.ensemble import RandomForestClassifier\n",
    "from sklearn.feature_extraction.text import CountVectorizer\n",
    "from sklearn.model_selection import train_test_split,cross_val_predict,StratifiedKFold\n",
    "from sklearn.metrics import accuracy_score,classification_report,confusion_matrix\n",
    "import pandas as pd\n",
    "import matplotlib.pyplot as plt\n",
    "import seaborn as sns"
   ]
  },
  {
   "cell_type": "code",
   "execution_count": 26,
   "id": "4c0e8570",
   "metadata": {},
   "outputs": [],
   "source": [
    "vectorizer=CountVectorizer(max_features=10000)"
   ]
  },
  {
   "cell_type": "code",
   "execution_count": 27,
   "id": "f64e5af0",
   "metadata": {},
   "outputs": [],
   "source": [
    "X=vectorizer.fit_transform(df['clean_comment']).toarray()\n",
    "y=df['category']"
   ]
  },
  {
   "cell_type": "code",
   "execution_count": 28,
   "id": "d7dd7bcd",
   "metadata": {},
   "outputs": [
    {
     "data": {
      "text/plain": [
       "array([[0, 0, 0, ..., 0, 0, 0],\n",
       "       [0, 0, 0, ..., 0, 0, 0],\n",
       "       [0, 0, 0, ..., 0, 0, 0],\n",
       "       ...,\n",
       "       [0, 0, 0, ..., 0, 0, 0],\n",
       "       [0, 0, 0, ..., 0, 0, 0],\n",
       "       [0, 0, 0, ..., 0, 0, 0]], dtype=int64)"
      ]
     },
     "execution_count": 28,
     "metadata": {},
     "output_type": "execute_result"
    }
   ],
   "source": [
    "X"
   ]
  },
  {
   "cell_type": "code",
   "execution_count": 29,
   "id": "e40be93e",
   "metadata": {},
   "outputs": [
    {
     "data": {
      "text/plain": [
       "(36793, 10000)"
      ]
     },
     "execution_count": 29,
     "metadata": {},
     "output_type": "execute_result"
    }
   ],
   "source": [
    "X.shape"
   ]
  },
  {
   "cell_type": "code",
   "execution_count": 30,
   "id": "108d51a7",
   "metadata": {},
   "outputs": [
    {
     "data": {
      "text/plain": [
       "0        1\n",
       "1        1\n",
       "2       -1\n",
       "3        0\n",
       "4        1\n",
       "        ..\n",
       "37244    0\n",
       "37245    1\n",
       "37246    0\n",
       "37247    1\n",
       "37248    0\n",
       "Name: category, Length: 36793, dtype: int64"
      ]
     },
     "execution_count": 30,
     "metadata": {},
     "output_type": "execute_result"
    }
   ],
   "source": [
    "y"
   ]
  },
  {
   "cell_type": "code",
   "execution_count": 31,
   "id": "403df81f",
   "metadata": {},
   "outputs": [
    {
     "data": {
      "text/plain": [
       "(36793,)"
      ]
     },
     "execution_count": 31,
     "metadata": {},
     "output_type": "execute_result"
    }
   ],
   "source": [
    "y.shape"
   ]
  },
  {
   "cell_type": "code",
   "execution_count": 32,
   "id": "06b7deb6",
   "metadata": {},
   "outputs": [],
   "source": [
    "mlflow.set_tracking_uri('http://ec2-44-201-150-114.compute-1.amazonaws.com:5000/')"
   ]
  },
  {
   "cell_type": "code",
   "execution_count": 33,
   "id": "eb269533",
   "metadata": {},
   "outputs": [
    {
     "data": {
      "text/plain": [
       "<Experiment: artifact_location='s3://mlflow-naman-test/669498621496608979', creation_time=1751129349703, experiment_id='669498621496608979', last_update_time=1751129349703, lifecycle_stage='active', name='RF Baseline', tags={}>"
      ]
     },
     "execution_count": 33,
     "metadata": {},
     "output_type": "execute_result"
    }
   ],
   "source": [
    "mlflow.set_experiment(\"RF Baseline\")"
   ]
  },
  {
   "cell_type": "code",
   "execution_count": 67,
   "id": "4c107562",
   "metadata": {},
   "outputs": [
    {
     "name": "stdout",
     "output_type": "stream",
     "text": [
      "Requirement already satisfied: boto3 in c:\\users\\hi\\anaconda3\\lib\\site-packages (1.36.23)\n",
      "Requirement already satisfied: jmespath<2.0.0,>=0.7.1 in c:\\users\\hi\\anaconda3\\lib\\site-packages (from boto3) (0.10.0)\n",
      "Requirement already satisfied: s3transfer<0.12.0,>=0.11.0 in c:\\users\\hi\\anaconda3\\lib\\site-packages (from boto3) (0.11.2)\n",
      "Requirement already satisfied: botocore<1.37.0,>=1.36.23 in c:\\users\\hi\\anaconda3\\lib\\site-packages (from boto3) (1.36.23)\n",
      "Requirement already satisfied: python-dateutil<3.0.0,>=2.1 in c:\\users\\hi\\anaconda3\\lib\\site-packages (from botocore<1.37.0,>=1.36.23->boto3) (2.8.2)\n",
      "Requirement already satisfied: urllib3!=2.2.0,<3,>=1.25.4 in c:\\users\\hi\\anaconda3\\lib\\site-packages (from botocore<1.37.0,>=1.36.23->boto3) (1.26.14)\n",
      "Requirement already satisfied: six>=1.5 in c:\\users\\hi\\anaconda3\\lib\\site-packages (from python-dateutil<3.0.0,>=2.1->botocore<1.37.0,>=1.36.23->boto3) (1.17.0)\n",
      "Note: you may need to restart the kernel to use updated packages.\n"
     ]
    },
    {
     "name": "stderr",
     "output_type": "stream",
     "text": [
      "WARNING: Ignoring invalid distribution -illow (c:\\users\\hi\\anaconda3\\lib\\site-packages)\n",
      "WARNING: Ignoring invalid distribution -illow (c:\\users\\hi\\anaconda3\\lib\\site-packages)\n",
      "WARNING: Ignoring invalid distribution -illow (c:\\users\\hi\\anaconda3\\lib\\site-packages)\n",
      "WARNING: Ignoring invalid distribution -illow (c:\\users\\hi\\anaconda3\\lib\\site-packages)\n",
      "WARNING: Ignoring invalid distribution -illow (c:\\users\\hi\\anaconda3\\lib\\site-packages)\n",
      "WARNING: Ignoring invalid distribution -illow (c:\\users\\hi\\anaconda3\\lib\\site-packages)\n"
     ]
    }
   ],
   "source": [
    "pip install boto3"
   ]
  },
  {
   "cell_type": "code",
   "execution_count": 68,
   "id": "53940c23",
   "metadata": {},
   "outputs": [
    {
     "name": "stdout",
     "output_type": "stream",
     "text": [
      "Collecting awscli\n",
      "  Downloading awscli-1.40.45-py3-none-any.whl (4.7 MB)\n",
      "     ---------------------------------------- 4.7/4.7 MB 3.4 MB/s eta 0:00:00\n",
      "Collecting rsa<4.8,>=3.1.2\n",
      "  Using cached rsa-4.7.2-py3-none-any.whl (34 kB)\n",
      "Requirement already satisfied: colorama<0.4.7,>=0.2.5 in c:\\users\\hi\\anaconda3\\lib\\site-packages (from awscli) (0.4.6)\n",
      "Requirement already satisfied: PyYAML<6.1,>=3.10 in c:\\users\\hi\\anaconda3\\lib\\site-packages (from awscli) (6.0)\n",
      "Collecting s3transfer<0.14.0,>=0.13.0\n",
      "  Using cached s3transfer-0.13.0-py3-none-any.whl (85 kB)\n",
      "Collecting botocore==1.38.46\n",
      "  Downloading botocore-1.38.46-py3-none-any.whl (13.7 MB)\n",
      "     ---------------------------------------- 13.7/13.7 MB 3.7 MB/s eta 0:00:00\n",
      "Requirement already satisfied: docutils<=0.19,>=0.18.1 in c:\\users\\hi\\anaconda3\\lib\\site-packages (from awscli) (0.18.1)\n",
      "Requirement already satisfied: urllib3!=2.2.0,<3,>=1.25.4 in c:\\users\\hi\\anaconda3\\lib\\site-packages (from botocore==1.38.46->awscli) (1.26.14)\n",
      "Requirement already satisfied: jmespath<2.0.0,>=0.7.1 in c:\\users\\hi\\anaconda3\\lib\\site-packages (from botocore==1.38.46->awscli) (0.10.0)\n",
      "Requirement already satisfied: python-dateutil<3.0.0,>=2.1 in c:\\users\\hi\\anaconda3\\lib\\site-packages (from botocore==1.38.46->awscli) (2.8.2)\n",
      "Requirement already satisfied: pyasn1>=0.1.3 in c:\\users\\hi\\anaconda3\\lib\\site-packages (from rsa<4.8,>=3.1.2->awscli) (0.4.8)\n",
      "Requirement already satisfied: six>=1.5 in c:\\users\\hi\\anaconda3\\lib\\site-packages (from python-dateutil<3.0.0,>=2.1->botocore==1.38.46->awscli) (1.17.0)\n",
      "Installing collected packages: rsa, botocore, s3transfer, awscli\n",
      "  Attempting uninstall: rsa\n",
      "    Found existing installation: rsa 4.9\n",
      "    Uninstalling rsa-4.9:\n",
      "      Successfully uninstalled rsa-4.9\n",
      "  Attempting uninstall: botocore\n",
      "    Found existing installation: botocore 1.36.23\n",
      "    Uninstalling botocore-1.36.23:\n",
      "      Successfully uninstalled botocore-1.36.23\n",
      "  Attempting uninstall: s3transfer\n",
      "    Found existing installation: s3transfer 0.11.2\n",
      "    Uninstalling s3transfer-0.11.2:\n",
      "      Successfully uninstalled s3transfer-0.11.2\n",
      "Successfully installed awscli-1.40.45 botocore-1.38.46 rsa-4.7.2 s3transfer-0.13.0\n",
      "Note: you may need to restart the kernel to use updated packages.\n"
     ]
    },
    {
     "name": "stderr",
     "output_type": "stream",
     "text": [
      "WARNING: Ignoring invalid distribution -illow (c:\\users\\hi\\anaconda3\\lib\\site-packages)\n",
      "WARNING: Ignoring invalid distribution -illow (c:\\users\\hi\\anaconda3\\lib\\site-packages)\n",
      "WARNING: Ignoring invalid distribution -illow (c:\\users\\hi\\anaconda3\\lib\\site-packages)\n",
      "    WARNING: Ignoring invalid distribution -illow (c:\\users\\hi\\anaconda3\\lib\\site-packages)\n",
      "    WARNING: Ignoring invalid distribution -illow (c:\\users\\hi\\anaconda3\\lib\\site-packages)\n",
      "    WARNING: Ignoring invalid distribution -illow (c:\\users\\hi\\anaconda3\\lib\\site-packages)\n",
      "WARNING: Ignoring invalid distribution -illow (c:\\users\\hi\\anaconda3\\lib\\site-packages)\n",
      "WARNING: Ignoring invalid distribution -illow (c:\\users\\hi\\anaconda3\\lib\\site-packages)\n",
      "WARNING: Ignoring invalid distribution -illow (c:\\users\\hi\\anaconda3\\lib\\site-packages)\n",
      "WARNING: Ignoring invalid distribution -illow (c:\\users\\hi\\anaconda3\\lib\\site-packages)\n",
      "ERROR: pip's dependency resolver does not currently take into account all the packages that are installed. This behaviour is the source of the following dependency conflicts.\n",
      "boto3 1.36.23 requires botocore<1.37.0,>=1.36.23, but you have botocore 1.38.46 which is incompatible.\n",
      "boto3 1.36.23 requires s3transfer<0.12.0,>=0.11.0, but you have s3transfer 0.13.0 which is incompatible.\n",
      "WARNING: Ignoring invalid distribution -illow (c:\\users\\hi\\anaconda3\\lib\\site-packages)\n",
      "WARNING: Ignoring invalid distribution -illow (c:\\users\\hi\\anaconda3\\lib\\site-packages)\n",
      "WARNING: Ignoring invalid distribution -illow (c:\\users\\hi\\anaconda3\\lib\\site-packages)\n"
     ]
    }
   ],
   "source": [
    "pip install awscli"
   ]
  },
  {
   "cell_type": "code",
   "execution_count": null,
   "id": "dee3a406",
   "metadata": {},
   "outputs": [],
   "source": [
    "import mlflow.sklearn\n",
    "\n",
    "\n",
    "X_train,X_test,y_train,y_test=train_test_split(X,y,test_size=0.2,random_state=42)\n",
    "with mlflow.start_run() as run:\n",
    "  mlflow.set_tag(\"mlflow.runname\",\"RandomForest -Baseline-TrainTestSplit\")\n",
    "  mlflow.set_tag(\"experiment-type\",\"baseline\")\n",
    "  mlflow.set_tag(\"model-type\",\"RandomForestClassifier\")\n",
    "  mlflow.set_tag('description',\"Baseline RandomForest model for sentiment analysis using Bag of Words (Bow) with \")\n",
    "  mlflow.log_param(\"vectorizer_type\",\"CountVectorizer\")\n",
    "  mlflow.log_param(\"vectorizer_max_features\",vectorizer.max_features)\n",
    "\n",
    "  n_estimators=200\n",
    "  max_depth=15\n",
    "  mlflow.log_param('n_estimators',n_estimators)\n",
    "  mlflow.log_param(\"max_depth\",max_depth)\n",
    "\n",
    "  model=RandomForestClassifier(n_estimators=n_estimators,max_depth=max_depth,random_state=42)\n",
    "  model.fit(X_train,y_train)\n",
    "\n",
    "  y_pred=model.predict(X_test)\n",
    "  accuracy=accuracy_score(y_test,y_pred)\n",
    "  mlflow.log_metric(\"accuracy\",accuracy)\n",
    "  classification_rep=classification_report(y_test,y_pred,output_dict=True)\n",
    "  for label,metrics in classification_rep.items():\n",
    "    if isinstance(metrics,dict):\n",
    "      for metric,value in metrics.items():\n",
    "        mlflow.log_metric(f\"{label}_{metric}\",value)\n",
    "  \n",
    "  conf_matrix=confusion_matrix(y_test,y_pred)\n",
    "  plt.figure(figsize=(8,6))\n",
    "  sns.heatmap(conf_matrix,annot=True,fmt='d',cmap='Blues')\n",
    "  plt.xlabel(\"Predicted\")\n",
    "  plt.ylabel(\"Actual\")\n",
    "  plt.savefig(f\"confusion_matrix.png\")\n",
    "  mlflow.log_artifact(r\"C:\\\\Users\\\\hi\\Desktop\\\\preprocessing_&_EDA\\\\confusion_matrix.png\")\n",
    "  mlflow.sklearn.log_model(model,\"random_forest_model\")\n",
    "  df.to_csv(\"dataset.csv\",index=False)\n",
    "  mlflow.log_artifact(r\"C:\\\\Users\\\\hi\\Desktop\\\\preprocessing_&_EDA\\\\dataset.csv\")\n",
    "print(\"accuracy\",accuracy)"
   ]
  },
  {
   "cell_type": "code",
   "execution_count": null,
   "id": "a9359f27",
   "metadata": {},
   "outputs": [],
   "source": []
  }
 ],
 "metadata": {
  "kernelspec": {
   "display_name": "base",
   "language": "python",
   "name": "python3"
  },
  "language_info": {
   "codemirror_mode": {
    "name": "ipython",
    "version": 3
   },
   "file_extension": ".py",
   "mimetype": "text/x-python",
   "name": "python",
   "nbconvert_exporter": "python",
   "pygments_lexer": "ipython3",
   "version": "3.10.9"
  }
 },
 "nbformat": 4,
 "nbformat_minor": 5
}
